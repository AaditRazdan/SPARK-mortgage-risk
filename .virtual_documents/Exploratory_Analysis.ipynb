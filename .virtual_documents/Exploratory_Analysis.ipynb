import pandas as pd
import os
print(os.getcwd())

# Load the data file
df = pd.read_csv("data/sample_2021.txt", delimiter="|")

# Show the first 5 rows
df.head()




