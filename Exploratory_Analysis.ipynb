{
 "cells": [
  {
   "cell_type": "code",
   "execution_count": 306,
   "id": "b1c40fe4-6071-4cb3-968d-94f41d883d54",
   "metadata": {},
   "outputs": [
    {
     "name": "stdout",
     "output_type": "stream",
     "text": [
      "Current working directory: C:\\Users\\Admin\\SPARK 2025\\SPARK-mortgage-risk\n"
     ]
    }
   ],
   "source": [
    "import pandas as pd\n",
    "import matplotlib.pyplot as plt\n",
    "import os\n",
    "print(\"Current working directory:\", os.getcwd())\n",
    "\n",
    "# Load the data file\n",
    "df = pd.read_csv(\"data/sample_orig_2021.txt\", delimiter = \"|\")\n",
    "\n",
    "df.columns = [\n",
    "    'credit_score', 'first_payment_date', 'flag', 'maturity_date', 'Unnamed_4',\n",
    "    'msa', 'mi_percent', 'product_type', 'num_units', 'occupancy', 'cltv',\n",
    "    'dti', 'upb', 'purpose', 'property_type', 'loan_type', 'state',\n",
    "    'postal_code', 'orig_rate', 'id', 'channel', 'term', 'seller', 'servicer',\n",
    "    'Unnamed_25', 'Unnamed_26', 'Unnamed_27', 'Unnamed_28', 'Unnamed_29',\n",
    "    'Unnamed_30', 'Unnamed_31', 'Unnamed_32'\n",
    "]\n",
    "\n",
    "# Convert to numeric, coercing errors to NaN\n",
    "df['credit_score'] = pd.to_numeric(df['credit_score'], errors = 'coerce')\n",
    "df['cltv'] = pd.to_numeric(df['cltv'], errors = 'coerce')\n",
    "\n",
    "# Filter rows with valid credit_score and cltv ranges\n",
    "df = df[(df['credit_score'] >= 300) & (df['credit_score'] <= 850)]\n",
    "df = df[(df['cltv'] >= 0) & (df['cltv'] <= 1000)]\n",
    "\n",
    "df['occupancy'] = df['occupancy'].astype(str).str.strip()\n",
    "df = df[(df['occupancy'].notnull()) & (df['occupancy'] != '')]"
   ]
  },
  {
   "cell_type": "code",
   "execution_count": 307,
   "id": "03a13d22-11a9-4ce5-a27e-25060f08a45e",
   "metadata": {},
   "outputs": [
    {
     "data": {
      "image/png": "[encoded data removed]",
      "text/plain": [
       "<Figure size 1000x600 with 1 Axes>"
      ]
     },
     "metadata": {},
     "output_type": "display_data"
    }
   ],
   "source": [
    "# Histogram of FICO Scores\n",
    "plt.figure(figsize = (10,6))\n",
    "df['credit_score'].hist(bins = 30, range = (300, 850), color = 'steelblue', edgecolor = 'black')\n",
    "plt.title('Distribution of Original FICO Scores')\n",
    "plt.xlabel('FICO Score')\n",
    "plt.ylabel('Count')\n",
    "plt.grid(False)\n",
    "plt.tight_layout()\n",
    "plt.show()\n"
   ]
  },
  {
   "cell_type": "code",
   "execution_count": null,
   "id": "01b7a044-c9ca-4ed7-9b96-491dd60e02d7",
   "metadata": {},
   "outputs": [],
   "source": [
    "\n",
    "\n"
   ]
  },
  {
   "cell_type": "code",
   "execution_count": 308,
   "id": "4a919c54-6f26-4b87-af69-fd8911ea5bfa",
   "metadata": {},
   "outputs": [
    {
     "name": "stdout",
     "output_type": "stream",
     "text": [
      "['credit_score', 'first_payment_date', 'flag', 'maturity_date', 'Unnamed_4', 'msa', 'mi_percent', 'product_type', 'num_units', 'occupancy', 'cltv', 'dti', 'upb', 'purpose', 'property_type', 'loan_type', 'state', 'postal_code', 'orig_rate', 'id', 'channel', 'term', 'seller', 'servicer', 'Unnamed_25', 'Unnamed_26', 'Unnamed_27', 'Unnamed_28', 'Unnamed_29', 'Unnamed_30', 'Unnamed_31', 'Unnamed_32']\n"
     ]
    }
   ],
   "source": [
    "print(df.columns.tolist())"
   ]
  },
  {
   "cell_type": "code",
   "execution_count": 309,
   "id": "2bb7b60a-df39-4c12-91a4-7a48e86d3fdf",
   "metadata": {},
   "outputs": [
    {
     "name": "stdout",
     "output_type": "stream",
     "text": [
      "Series([], Name: credit_score, dtype: int64)\n"
     ]
    }
   ],
   "source": [
    "print(df.iloc[:, 0].head())"
   ]
  },
  {
   "cell_type": "code",
   "execution_count": 310,
   "id": "e9019d6f-2ed1-4274-8e66-8f67df951bbf",
   "metadata": {},
   "outputs": [
    {
     "name": "stdout",
     "output_type": "stream",
     "text": [
      "[]\n"
     ]
    }
   ],
   "source": [
    "print(df['credit_score'].unique())"
   ]
  },
  {
   "cell_type": "code",
   "execution_count": 311,
   "id": "e5be8a91-c644-4622-a518-709498eda1f4",
   "metadata": {},
   "outputs": [],
   "source": [
    "df['credit_score'] = pd.to_numeric(df['credit_score'], errors = 'coerce')\n",
    "df = df[(df['credit_score'] >= 300) & (df['credit_score'] <= 850)]\n",
    "#df = df.dropna(subset=['credit_score'])"
   ]
  },
  {
   "cell_type": "code",
   "execution_count": 312,
   "id": "2abf359f-7707-4340-8261-994fd088dea3",
   "metadata": {},
   "outputs": [
    {
     "name": "stdout",
     "output_type": "stream",
     "text": [
      "count    0.0\n",
      "mean     NaN\n",
      "std      NaN\n",
      "min      NaN\n",
      "25%      NaN\n",
      "50%      NaN\n",
      "75%      NaN\n",
      "max      NaN\n",
      "Name: credit_score, dtype: float64\n"
     ]
    }
   ],
   "source": [
    "print(df['credit_score'].describe())"
   ]
  },
  {
   "cell_type": "code",
   "execution_count": 313,
   "id": "2f6c227e-cdde-4386-8882-dfbc817ac4cf",
   "metadata": {},
   "outputs": [
    {
     "name": "stdout",
     "output_type": "stream",
     "text": [
      "32\n",
      "['credit_score', 'first_payment_date', 'flag', 'maturity_date', 'Unnamed_4', 'msa', 'mi_percent', 'product_type', 'num_units', 'occupancy', 'cltv', 'dti', 'upb', 'purpose', 'property_type', 'loan_type', 'state', 'postal_code', 'orig_rate', 'id', 'channel', 'term', 'seller', 'servicer', 'Unnamed_25', 'Unnamed_26', 'Unnamed_27', 'Unnamed_28', 'Unnamed_29', 'Unnamed_30', 'Unnamed_31', 'Unnamed_32']\n"
     ]
    }
   ],
   "source": [
    "print(len(df.columns))\n",
    "print(df.columns.tolist())"
   ]
  },
  {
   "cell_type": "code",
   "execution_count": 314,
   "id": "df44042e-9e59-4b18-8045-a47602648fbe",
   "metadata": {},
   "outputs": [],
   "source": [
    "#Convert CLTV to numeric values and remove invalid values\n",
    "\n",
    "df['cltv'] = pd.to_numeric(df['cltv'], errors = 'coerce')\n",
    "df = df[(df['cltv'] >= 0) & (df['cltv'] <= 1000)]"
   ]
  },
  {
   "cell_type": "code",
   "execution_count": 315,
   "id": "c94523b4-fcbb-4402-9571-525136f27a0e",
   "metadata": {},
   "outputs": [
    {
     "name": "stdout",
     "output_type": "stream",
     "text": [
      "Series([], Name: credit_score, dtype: float64)\n",
      "No data to plot for average FICO by occupancy.\n"
     ]
    }
   ],
   "source": [
    "# Average FICO Score by occupancy\n",
    "grouped_df = df[['occupancy', 'credit_score']].dropna()\n",
    "\n",
    "avg_fico_by_occupancy = df.groupby('occupancy')['credit_score'].mean()\n",
    "\n",
    "print(avg_fico_by_occupancy)\n",
    "# bar\n",
    "if not avg_fico_by_occupancy.empty:\n",
    "    avg_fico_by_occupancy.plot(kind = 'bar', color = 'skyblue', figsize = (10,6))\n",
    "    plt.title('Average FICO Score by Occupancy Status')\n",
    "    plt.xlabel('Occupancy Code')\n",
    "    plt.ylabel('Average FICO Score')\n",
    "    plt.xticks(rotation = 45)\n",
    "    plt.grid(axis = 'y')\n",
    "    plt.tight_layout()\n",
    "    plt.show()\n",
    "else:\n",
    "    print(\"No data to plot for average FICO by occupancy.\")\n"
   ]
  },
  {
   "cell_type": "code",
   "execution_count": 316,
   "id": "36523490-0482-4cd5-b108-3657bccbf375",
   "metadata": {},
   "outputs": [
    {
     "name": "stdout",
     "output_type": "stream",
     "text": [
      "Series([], Name: cltv, dtype: float64)\n",
      "Warning: 'avg_ltv_by_channel' is empty. Nothing to plot.\n"
     ]
    }
   ],
   "source": [
    "\n",
    "# Average CLTV by channel\n",
    "avg_ltv_by_channel = df.groupby('channel')['cltv'].mean().sort_values()\n",
    "\n",
    "print(avg_ltv_by_channel)\n",
    "\n",
    "# Bar chart\n",
    "if not avg_ltv_by_channel.empty:\n",
    "    plt.figure(figsize = (10,6))\n",
    "    avg_ltv_by_channel.plot(kind = 'bar', color = 'salmon')\n",
    "    plt.title('Average CLTV by Channel')\n",
    "    plt.xlabel('Channel')\n",
    "    plt.ylabel('Average CLTV')\n",
    "    plt.xticks(rotation = 45)\n",
    "    plt.grid(axis = 'y')\n",
    "    plt.tight_layout()\n",
    "    plt.show()\n",
    "else:\n",
    "    print(\"Warning: 'avg_ltv_by_channel' is empty. Nothing to plot.\")\n"
   ]
  },
  {
   "cell_type": "code",
   "execution_count": 317,
   "id": "787e719e-946a-4448-8cc8-2e86946ff01e",
   "metadata": {},
   "outputs": [],
   "source": [
    "\n",
    "print(df['occupancy'].head(10))\n",
    "\n",
    "#Just check how many scores are numeric and within range\n",
    "df['credit_score'] = pd.to_numeric(df['credit_score'], errors='coerce')\n",
    "\n",
    "print(\"Before filtering:\", len(df))\n",
    "print(\"After dropping NaNs:\", df['credit_score'].notna().sum())\n",
    "print(\"In range 300–850:\", ((df['credit_score'] >= 300) & (df['credit_score'] <= 850)).sum())\n",
    "\n"
   ]
  },
  {
   "cell_type": "code",
   "execution_count": 318,
   "id": "d94922f2-345f-4507-9904-23d859e22f84",
   "metadata": {},
   "outputs": [],
   "source": [
    "print(df[['occupancy', 'credit_score']].head())\n",
    "print(df['occupancy'].value_counts())\n",
    "print(df['credit_score'].describe())\n"
   ]
  },
  {
   "cell_type": "code",
   "execution_count": 319,
   "id": "969c6338-7f7b-452a-9271-d239c7d5fb67",
   "metadata": {},
   "outputs": [],
   "source": [
    "print(df.columns)  # Check column names\n",
    "\n",
    "print(df[['occupancy', 'credit_score']].head(10))  # First 10 rows\n",
    "\n",
    "print(df[['occupancy', 'credit_score']].info())  # Info on types & nulls\n",
    "\n",
    "print(df[['occupancy', 'credit_score']].dropna().shape)  # Rows with no missing values in those columns\n",
    "\n"
   ]
  },
  {
   "cell_type": "code",
   "execution_count": 320,
   "id": "322f6937-286b-4ff1-860e-d2d09ec490d1",
   "metadata": {},
   "outputs": [],
   "source": [
    "print(\"TOTAL ROWS:\", len(df))\n",
    "print(\"OCCUPANCY UNIQUE VALUES:\\n\", df['occupancy'].value_counts(dropna=False))\n",
    "print(\"CREDIT SCORE TYPE:\", df['credit_score'].dtype)\n",
    "print(\"CREDIT SCORE STATS:\\n\", df['credit_score'].describe())\n",
    "print(\"NULLS in OCCUPANCY:\", df['occupancy'].isnull().sum())\n",
    "print(\"NULLS in CREDIT SCORE:\", df['credit_score'].isnull().sum())\n",
    "print(\"ROWS with valid occupancy and credit score:\", df[['occupancy', 'credit_score']].dropna().shape[0])\n",
    "print(df[['occupancy', 'credit_score']].dropna().head(10))"
   ]
  },
  {
   "cell_type": "code",
   "execution_count": 321,
   "id": "5ad87c78-6325-4186-9485-582475caead7",
   "metadata": {},
   "outputs": [
    {
     "name": "stdout",
     "output_type": "stream",
     "text": [
      "No data to plot for average CLTV by channel\n"
     ]
    }
   ],
   "source": [
    "df_clean = df.dropna(subset = ['channel', 'cltv'])\n",
    "df_clean = df_clean[(df_clean['cltv'] >= 0) & (df_clean['cltv'] <= 1000)]\n",
    "\n",
    "avg_ltv_by_channel = df_clean.groupby('channel')['cltv'].mean().sort_values()\n",
    "\n",
    "if not avg_ltv_by_channel.empty:\n",
    "    plt.figure(figsize = (10,6))\n",
    "    avg_ltv_by_channel.plot(kind = 'bar', color = 'salmon')\n",
    "    plt.title('Average CLTV by Channel')\n",
    "    plt.xlabel('Channel')\n",
    "    plt.ylabel('Average CLTV')\n",
    "    plt.xticks(rotation = 45)\n",
    "    plt.grid(axis = 'y')\n",
    "    plt.tight_layout()\n",
    "    plt.show()\n",
    "else:\n",
    "    print(\"No data to plot for average CLTV by channel\")\n",
    "\n",
    "\n"
   ]
  },
  {
   "cell_type": "code",
   "execution_count": 322,
   "id": "6aa391b0-5c10-4df5-b711-d4777524ac2b",
   "metadata": {},
   "outputs": [
    {
     "name": "stdout",
     "output_type": "stream",
     "text": [
      "Original df shape: (0, 32)\n",
      "Missing 'channel' or 'cltv': (0, 32)\n",
      "Negative or >1000 CLTV values: (0, 32)\n",
      "Cleaned df shape: (0, 32)\n",
      "Unique channels after cleaning: []\n"
     ]
    }
   ],
   "source": [
    "print(\"Original df shape:\", df.shape)\n",
    "print(\"Missing 'channel' or 'cltv':\", df[df[['channel', 'cltv']].isnull().any(axis=1)].shape)\n",
    "print(\"Negative or >1000 CLTV values:\", df[(df['cltv'] < 0) | (df['cltv'] > 1000)].shape)\n",
    "\n",
    "df_clean = df.dropna(subset = ['channel', 'cltv'])\n",
    "df_clean = df_clean[(df_clean['cltv'] >= 0) & (df_clean['cltv'] <= 1000)]\n",
    "\n",
    "print(\"Cleaned df shape:\", df_clean.shape)\n",
    "print(\"Unique channels after cleaning:\", df_clean['channel'].unique())\n"
   ]
  },
  {
   "cell_type": "code",
   "execution_count": 323,
   "id": "96e0dfe2-9981-45f5-9cce-9f9fb015e74e",
   "metadata": {},
   "outputs": [
    {
     "name": "stdout",
     "output_type": "stream",
     "text": [
      "['sample_orig_2021.txt']\n"
     ]
    }
   ],
   "source": [
    "print(os.listdir('data'))"
   ]
  },
  {
   "cell_type": "code",
   "execution_count": 324,
   "id": "5cd334b1-e8f0-4bde-8068-f2dca617b868",
   "metadata": {},
   "outputs": [
    {
     "name": "stdout",
     "output_type": "stream",
     "text": [
      "Shape of the DataFrame: (49999, 32)\n"
     ]
    },
    {
     "data": {
      "text/html": [
       "<div>\n",
       "<style scoped>\n",
       "    .dataframe tbody tr th:only-of-type {\n",
       "        vertical-align: middle;\n",
       "    }\n",
       "\n",
       "    .dataframe tbody tr th {\n",
       "        vertical-align: top;\n",
       "    }\n",
       "\n",
       "    .dataframe thead th {\n",
       "        text-align: right;\n",
       "    }\n",
       "</style>\n",
       "<table border=\"1\" class=\"dataframe\">\n",
       "  <thead>\n",
       "    <tr style=\"text-align: right;\">\n",
       "      <th></th>\n",
       "      <th>776</th>\n",
       "      <th>202103</th>\n",
       "      <th>N</th>\n",
       "      <th>205102</th>\n",
       "      <th>Unnamed: 4</th>\n",
       "      <th>000</th>\n",
       "      <th>1</th>\n",
       "      <th>P</th>\n",
       "      <th>52</th>\n",
       "      <th>12</th>\n",
       "      <th>...</th>\n",
       "      <th>01</th>\n",
       "      <th>Other sellers</th>\n",
       "      <th>Other servicers</th>\n",
       "      <th>Unnamed: 25</th>\n",
       "      <th>Unnamed: 26</th>\n",
       "      <th>9</th>\n",
       "      <th>Unnamed: 28</th>\n",
       "      <th>3</th>\n",
       "      <th>N.3</th>\n",
       "      <th>7</th>\n",
       "    </tr>\n",
       "  </thead>\n",
       "  <tbody>\n",
       "    <tr>\n",
       "      <th>0</th>\n",
       "      <td>746</td>\n",
       "      <td>202103</td>\n",
       "      <td>N</td>\n",
       "      <td>205102</td>\n",
       "      <td>NaN</td>\n",
       "      <td>30</td>\n",
       "      <td>1</td>\n",
       "      <td>P</td>\n",
       "      <td>95</td>\n",
       "      <td>33</td>\n",
       "      <td>...</td>\n",
       "      <td>1</td>\n",
       "      <td>Other sellers</td>\n",
       "      <td>Other servicers</td>\n",
       "      <td>NaN</td>\n",
       "      <td>NaN</td>\n",
       "      <td>9</td>\n",
       "      <td>NaN</td>\n",
       "      <td>2</td>\n",
       "      <td>N</td>\n",
       "      <td>N</td>\n",
       "    </tr>\n",
       "    <tr>\n",
       "      <th>1</th>\n",
       "      <td>710</td>\n",
       "      <td>202103</td>\n",
       "      <td>N</td>\n",
       "      <td>204102</td>\n",
       "      <td>NaN</td>\n",
       "      <td>0</td>\n",
       "      <td>1</td>\n",
       "      <td>P</td>\n",
       "      <td>65</td>\n",
       "      <td>50</td>\n",
       "      <td>...</td>\n",
       "      <td>1</td>\n",
       "      <td>Other sellers</td>\n",
       "      <td>Other servicers</td>\n",
       "      <td>NaN</td>\n",
       "      <td>NaN</td>\n",
       "      <td>9</td>\n",
       "      <td>NaN</td>\n",
       "      <td>2</td>\n",
       "      <td>N</td>\n",
       "      <td>7</td>\n",
       "    </tr>\n",
       "    <tr>\n",
       "      <th>2</th>\n",
       "      <td>722</td>\n",
       "      <td>202103</td>\n",
       "      <td>N</td>\n",
       "      <td>205102</td>\n",
       "      <td>16984.0</td>\n",
       "      <td>25</td>\n",
       "      <td>1</td>\n",
       "      <td>P</td>\n",
       "      <td>89</td>\n",
       "      <td>40</td>\n",
       "      <td>...</td>\n",
       "      <td>2</td>\n",
       "      <td>Other sellers</td>\n",
       "      <td>Other servicers</td>\n",
       "      <td>NaN</td>\n",
       "      <td>NaN</td>\n",
       "      <td>9</td>\n",
       "      <td>NaN</td>\n",
       "      <td>1</td>\n",
       "      <td>N</td>\n",
       "      <td>N</td>\n",
       "    </tr>\n",
       "    <tr>\n",
       "      <th>3</th>\n",
       "      <td>761</td>\n",
       "      <td>202103</td>\n",
       "      <td>N</td>\n",
       "      <td>205102</td>\n",
       "      <td>29020.0</td>\n",
       "      <td>0</td>\n",
       "      <td>1</td>\n",
       "      <td>P</td>\n",
       "      <td>56</td>\n",
       "      <td>50</td>\n",
       "      <td>...</td>\n",
       "      <td>1</td>\n",
       "      <td>Other sellers</td>\n",
       "      <td>Other servicers</td>\n",
       "      <td>NaN</td>\n",
       "      <td>NaN</td>\n",
       "      <td>9</td>\n",
       "      <td>NaN</td>\n",
       "      <td>2</td>\n",
       "      <td>N</td>\n",
       "      <td>7</td>\n",
       "    </tr>\n",
       "    <tr>\n",
       "      <th>4</th>\n",
       "      <td>675</td>\n",
       "      <td>202103</td>\n",
       "      <td>N</td>\n",
       "      <td>203602</td>\n",
       "      <td>NaN</td>\n",
       "      <td>0</td>\n",
       "      <td>1</td>\n",
       "      <td>P</td>\n",
       "      <td>37</td>\n",
       "      <td>27</td>\n",
       "      <td>...</td>\n",
       "      <td>1</td>\n",
       "      <td>Other sellers</td>\n",
       "      <td>Other servicers</td>\n",
       "      <td>NaN</td>\n",
       "      <td>NaN</td>\n",
       "      <td>9</td>\n",
       "      <td>NaN</td>\n",
       "      <td>2</td>\n",
       "      <td>N</td>\n",
       "      <td>7</td>\n",
       "    </tr>\n",
       "  </tbody>\n",
       "</table>\n",
       "<p>5 rows × 32 columns</p>\n",
       "</div>"
      ],
      "text/plain": [
       "   776  202103  N  205102  Unnamed: 4  000  1  P  52  12  ...  01  \\\n",
       "0  746  202103  N  205102         NaN   30  1  P  95  33  ...   1   \n",
       "1  710  202103  N  204102         NaN    0  1  P  65  50  ...   1   \n",
       "2  722  202103  N  205102     16984.0   25  1  P  89  40  ...   2   \n",
       "3  761  202103  N  205102     29020.0    0  1  P  56  50  ...   1   \n",
       "4  675  202103  N  203602         NaN    0  1  P  37  27  ...   1   \n",
       "\n",
       "   Other sellers  Other servicers Unnamed: 25 Unnamed: 26  9 Unnamed: 28  3  \\\n",
       "0  Other sellers  Other servicers         NaN         NaN  9         NaN  2   \n",
       "1  Other sellers  Other servicers         NaN         NaN  9         NaN  2   \n",
       "2  Other sellers  Other servicers         NaN         NaN  9         NaN  1   \n",
       "3  Other sellers  Other servicers         NaN         NaN  9         NaN  2   \n",
       "4  Other sellers  Other servicers         NaN         NaN  9         NaN  2   \n",
       "\n",
       "   N.3  7  \n",
       "0    N  N  \n",
       "1    N  7  \n",
       "2    N  N  \n",
       "3    N  7  \n",
       "4    N  7  \n",
       "\n",
       "[5 rows x 32 columns]"
      ]
     },
     "execution_count": 324,
     "metadata": {},
     "output_type": "execute_result"
    }
   ],
   "source": [
    "import pandas as pd\n",
    "\n",
    "df = pd.read_csv('data/sample_orig_2021.txt', delimiter = '|')  # change to actual name if different\n",
    "print(\"Shape of the DataFrame:\", df.shape)\n",
    "df.head()\n"
   ]
  },
  {
   "cell_type": "code",
   "execution_count": null,
   "id": "1ea39ed5-2b0f-4b75-be15-7a1e70314e7c",
   "metadata": {},
   "outputs": [],
   "source": []
  }
 ],
 "metadata": {
  "kernelspec": {
   "display_name": "Python 3 (ipykernel)",
   "language": "python",
   "name": "python3"
  },
  "language_info": {
   "codemirror_mode": {
    "name": "ipython",
    "version": 3
   },
   "file_extension": ".py",
   "mimetype": "text/x-python",
   "name": "python",
   "nbconvert_exporter": "python",
   "pygments_lexer": "ipython3",
   "version": "3.12.7"
  }
 },
 "nbformat": 4,
 "nbformat_minor": 5
}
