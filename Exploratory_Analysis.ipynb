{
 "cells": [
  {
   "cell_type": "code",
   "execution_count": 94,
   "id": "b1c40fe4-6071-4cb3-968d-94f41d883d54",
   "metadata": {},
   "outputs": [
    {
     "name": "stdout",
     "output_type": "stream",
     "text": [
      "C:\\Users\\Admin\\SPARK 2025\\SPARK-mortgage-risk\n",
      "['credit_score', 'first_payment_date', 'flag', 'maturity_date', 'Unnamed_4', 'msa', 'mi_percent', 'product_type', 'num_units', 'occupancy', 'cltv', 'dti', 'upb', 'purpose', 'property_type', 'loan_type', 'state', 'postal_code', 'orig_rate', 'id', 'channel', 'term', 'seller', 'servicer', 'Unnamed_25', 'Unnamed_26', 'Unnamed_27', 'Unnamed_28', 'Unnamed_29', 'Unnamed_30', 'Unnamed_31', 'Unnamed_32']\n"
     ]
    },
    {
     "data": {
      "text/html": [
       "<div>\n",
       "<style scoped>\n",
       "    .dataframe tbody tr th:only-of-type {\n",
       "        vertical-align: middle;\n",
       "    }\n",
       "\n",
       "    .dataframe tbody tr th {\n",
       "        vertical-align: top;\n",
       "    }\n",
       "\n",
       "    .dataframe thead th {\n",
       "        text-align: right;\n",
       "    }\n",
       "</style>\n",
       "<table border=\"1\" class=\"dataframe\">\n",
       "  <thead>\n",
       "    <tr style=\"text-align: right;\">\n",
       "      <th></th>\n",
       "      <th>credit_score</th>\n",
       "      <th>first_payment_date</th>\n",
       "      <th>flag</th>\n",
       "      <th>maturity_date</th>\n",
       "      <th>Unnamed_4</th>\n",
       "      <th>msa</th>\n",
       "      <th>mi_percent</th>\n",
       "      <th>product_type</th>\n",
       "      <th>num_units</th>\n",
       "      <th>occupancy</th>\n",
       "      <th>...</th>\n",
       "      <th>seller</th>\n",
       "      <th>servicer</th>\n",
       "      <th>Unnamed_25</th>\n",
       "      <th>Unnamed_26</th>\n",
       "      <th>Unnamed_27</th>\n",
       "      <th>Unnamed_28</th>\n",
       "      <th>Unnamed_29</th>\n",
       "      <th>Unnamed_30</th>\n",
       "      <th>Unnamed_31</th>\n",
       "      <th>Unnamed_32</th>\n",
       "    </tr>\n",
       "  </thead>\n",
       "  <tbody>\n",
       "    <tr>\n",
       "      <th>0</th>\n",
       "      <td>776</td>\n",
       "      <td>202103</td>\n",
       "      <td>N</td>\n",
       "      <td>205102</td>\n",
       "      <td>NaN</td>\n",
       "      <td>0</td>\n",
       "      <td>1</td>\n",
       "      <td>P</td>\n",
       "      <td>52</td>\n",
       "      <td>12</td>\n",
       "      <td>...</td>\n",
       "      <td>1</td>\n",
       "      <td>Other sellers</td>\n",
       "      <td>Other servicers</td>\n",
       "      <td>NaN</td>\n",
       "      <td>NaN</td>\n",
       "      <td>9</td>\n",
       "      <td>NaN</td>\n",
       "      <td>3</td>\n",
       "      <td>N</td>\n",
       "      <td>7</td>\n",
       "    </tr>\n",
       "    <tr>\n",
       "      <th>1</th>\n",
       "      <td>746</td>\n",
       "      <td>202103</td>\n",
       "      <td>N</td>\n",
       "      <td>205102</td>\n",
       "      <td>NaN</td>\n",
       "      <td>30</td>\n",
       "      <td>1</td>\n",
       "      <td>P</td>\n",
       "      <td>95</td>\n",
       "      <td>33</td>\n",
       "      <td>...</td>\n",
       "      <td>1</td>\n",
       "      <td>Other sellers</td>\n",
       "      <td>Other servicers</td>\n",
       "      <td>NaN</td>\n",
       "      <td>NaN</td>\n",
       "      <td>9</td>\n",
       "      <td>NaN</td>\n",
       "      <td>2</td>\n",
       "      <td>N</td>\n",
       "      <td>N</td>\n",
       "    </tr>\n",
       "    <tr>\n",
       "      <th>2</th>\n",
       "      <td>710</td>\n",
       "      <td>202103</td>\n",
       "      <td>N</td>\n",
       "      <td>204102</td>\n",
       "      <td>NaN</td>\n",
       "      <td>0</td>\n",
       "      <td>1</td>\n",
       "      <td>P</td>\n",
       "      <td>65</td>\n",
       "      <td>50</td>\n",
       "      <td>...</td>\n",
       "      <td>1</td>\n",
       "      <td>Other sellers</td>\n",
       "      <td>Other servicers</td>\n",
       "      <td>NaN</td>\n",
       "      <td>NaN</td>\n",
       "      <td>9</td>\n",
       "      <td>NaN</td>\n",
       "      <td>2</td>\n",
       "      <td>N</td>\n",
       "      <td>7</td>\n",
       "    </tr>\n",
       "    <tr>\n",
       "      <th>3</th>\n",
       "      <td>722</td>\n",
       "      <td>202103</td>\n",
       "      <td>N</td>\n",
       "      <td>205102</td>\n",
       "      <td>16984.0</td>\n",
       "      <td>25</td>\n",
       "      <td>1</td>\n",
       "      <td>P</td>\n",
       "      <td>89</td>\n",
       "      <td>40</td>\n",
       "      <td>...</td>\n",
       "      <td>2</td>\n",
       "      <td>Other sellers</td>\n",
       "      <td>Other servicers</td>\n",
       "      <td>NaN</td>\n",
       "      <td>NaN</td>\n",
       "      <td>9</td>\n",
       "      <td>NaN</td>\n",
       "      <td>1</td>\n",
       "      <td>N</td>\n",
       "      <td>N</td>\n",
       "    </tr>\n",
       "    <tr>\n",
       "      <th>4</th>\n",
       "      <td>761</td>\n",
       "      <td>202103</td>\n",
       "      <td>N</td>\n",
       "      <td>205102</td>\n",
       "      <td>29020.0</td>\n",
       "      <td>0</td>\n",
       "      <td>1</td>\n",
       "      <td>P</td>\n",
       "      <td>56</td>\n",
       "      <td>50</td>\n",
       "      <td>...</td>\n",
       "      <td>1</td>\n",
       "      <td>Other sellers</td>\n",
       "      <td>Other servicers</td>\n",
       "      <td>NaN</td>\n",
       "      <td>NaN</td>\n",
       "      <td>9</td>\n",
       "      <td>NaN</td>\n",
       "      <td>2</td>\n",
       "      <td>N</td>\n",
       "      <td>7</td>\n",
       "    </tr>\n",
       "  </tbody>\n",
       "</table>\n",
       "<p>5 rows × 32 columns</p>\n",
       "</div>"
      ],
      "text/plain": [
       "   credit_score  first_payment_date flag  maturity_date  Unnamed_4  msa  \\\n",
       "0           776              202103    N         205102        NaN    0   \n",
       "1           746              202103    N         205102        NaN   30   \n",
       "2           710              202103    N         204102        NaN    0   \n",
       "3           722              202103    N         205102    16984.0   25   \n",
       "4           761              202103    N         205102    29020.0    0   \n",
       "\n",
       "   mi_percent product_type  num_units  occupancy  ...  seller       servicer  \\\n",
       "0           1            P         52         12  ...       1  Other sellers   \n",
       "1           1            P         95         33  ...       1  Other sellers   \n",
       "2           1            P         65         50  ...       1  Other sellers   \n",
       "3           1            P         89         40  ...       2  Other sellers   \n",
       "4           1            P         56         50  ...       1  Other sellers   \n",
       "\n",
       "        Unnamed_25 Unnamed_26 Unnamed_27 Unnamed_28 Unnamed_29 Unnamed_30  \\\n",
       "0  Other servicers        NaN        NaN          9        NaN          3   \n",
       "1  Other servicers        NaN        NaN          9        NaN          2   \n",
       "2  Other servicers        NaN        NaN          9        NaN          2   \n",
       "3  Other servicers        NaN        NaN          9        NaN          1   \n",
       "4  Other servicers        NaN        NaN          9        NaN          2   \n",
       "\n",
       "   Unnamed_31 Unnamed_32  \n",
       "0           N          7  \n",
       "1           N          N  \n",
       "2           N          7  \n",
       "3           N          N  \n",
       "4           N          7  \n",
       "\n",
       "[5 rows x 32 columns]"
      ]
     },
     "execution_count": 94,
     "metadata": {},
     "output_type": "execute_result"
    }
   ],
   "source": [
    "import pandas as pd\n",
    "import os\n",
    "print(os.getcwd())\n",
    "\n",
    "# Load the data file\n",
    "df = pd.read_csv(\"data/sample_orig_2021.txt\", delimiter=\"|\", header = None)\n",
    "\n",
    "df.columns = [\n",
    "    'credit_score', 'first_payment_date', 'flag', 'maturity_date', 'Unnamed_4',\n",
    "    'msa', 'mi_percent', 'product_type', 'num_units', 'occupancy', 'cltv',\n",
    "    'dti', 'upb', 'purpose', 'property_type', 'loan_type', 'state',\n",
    "    'postal_code', 'orig_rate', 'id', 'channel', 'term', 'seller', 'servicer',\n",
    "    'Unnamed_25', 'Unnamed_26', 'Unnamed_27', 'Unnamed_28', 'Unnamed_29',\n",
    "    'Unnamed_30', 'Unnamed_31', 'Unnamed_32'\n",
    "]\n",
    "\n",
    "\n",
    "print(df.columns.tolist())\n",
    "\n",
    "# Show the first 5 rows\n",
    "df.head()\n"
   ]
  },
  {
   "cell_type": "code",
   "execution_count": 95,
   "id": "03a13d22-11a9-4ce5-a27e-25060f08a45e",
   "metadata": {},
   "outputs": [
    {
     "data": {
      "image/png": "[encoded data removed]",
      "text/plain": [
       "<Figure size 1000x600 with 1 Axes>"
      ]
     },
     "metadata": {},
     "output_type": "display_data"
    }
   ],
   "source": [
    "import matplotlib.pyplot as plt\n",
    "\n",
    "# Histogram of FICO Scores\n",
    "plt.figure(figsize=(10,6))\n",
    "df['credit_score'].hist(bins=30, range = (300, 850))\n",
    "plt.title('Distribution of Original FICO Scores')\n",
    "plt.xlabel('FICO Score')\n",
    "plt.ylabel('Count')\n",
    "plt.grid(False)\n",
    "plt.show()\n"
   ]
  },
  {
   "cell_type": "code",
   "execution_count": null,
   "id": "01b7a044-c9ca-4ed7-9b96-491dd60e02d7",
   "metadata": {},
   "outputs": [],
   "source": [
    "\n",
    "\n"
   ]
  },
  {
   "cell_type": "code",
   "execution_count": 96,
   "id": "4a919c54-6f26-4b87-af69-fd8911ea5bfa",
   "metadata": {},
   "outputs": [
    {
     "name": "stdout",
     "output_type": "stream",
     "text": [
      "['credit_score', 'first_payment_date', 'flag', 'maturity_date', 'Unnamed_4', 'msa', 'mi_percent', 'product_type', 'num_units', 'occupancy', 'cltv', 'dti', 'upb', 'purpose', 'property_type', 'loan_type', 'state', 'postal_code', 'orig_rate', 'id', 'channel', 'term', 'seller', 'servicer', 'Unnamed_25', 'Unnamed_26', 'Unnamed_27', 'Unnamed_28', 'Unnamed_29', 'Unnamed_30', 'Unnamed_31', 'Unnamed_32']\n"
     ]
    }
   ],
   "source": [
    "print(df.columns.tolist())"
   ]
  },
  {
   "cell_type": "code",
   "execution_count": 97,
   "id": "2bb7b60a-df39-4c12-91a4-7a48e86d3fdf",
   "metadata": {},
   "outputs": [
    {
     "name": "stdout",
     "output_type": "stream",
     "text": [
      "0    776\n",
      "1    746\n",
      "2    710\n",
      "3    722\n",
      "4    761\n",
      "Name: credit_score, dtype: int64\n"
     ]
    }
   ],
   "source": [
    "print(df.iloc[:, 0].head())"
   ]
  },
  {
   "cell_type": "code",
   "execution_count": 98,
   "id": "e9019d6f-2ed1-4274-8e66-8f67df951bbf",
   "metadata": {},
   "outputs": [
    {
     "name": "stdout",
     "output_type": "stream",
     "text": [
      "[ 776  746  710  722  761  675  799  785  692  688  797  716  663  720\n",
      "  794  769  724  749  729  753  705  780  763  718  792  801  807  709\n",
      "  778  809  771  789  697  795  745  712  787  748  756  808  781  744\n",
      "  682  727  811  751  782  743  813  796  739  773  700  713  803  759\n",
      "  750  804  777  733  689  798  734  823  770  755  616  728  766  767\n",
      "  820  774  764  806  812  696  800  810  802  703  752  816  673  717\n",
      "  754  779  772  699  620  738  730  758  775  791  645  828  676  757\n",
      "  683  805  765  732  786  747  637  685  721  762  784  814  793  701\n",
      "  768  684  741  740  725  735  783  649  726  621  723  788  695  719\n",
      "  790  690  661  664  677  714  815  736  742  760  691  687  708  633\n",
      "  731  638  655  681  642  694  648  671  704  657  668  666  698  693\n",
      "  715  670  737  707  818  706  680  817  662  819  686  679  674  650\n",
      "  678  711  647  658  702  635  652  646  639  656  654  669  628  665\n",
      "  667  659  643  660  636  632  644  822  634  821  627  629  618  672\n",
      "  624  630  631  641  832  653  625  640  651  622  829  825  626  826\n",
      "  831  824  623  605  608  614 9999  602  601  830  617  613  609  619\n",
      "  600  615  603]\n"
     ]
    }
   ],
   "source": [
    "print(df['credit_score'].unique())"
   ]
  },
  {
   "cell_type": "code",
   "execution_count": 99,
   "id": "e5be8a91-c644-4622-a518-709498eda1f4",
   "metadata": {},
   "outputs": [],
   "source": [
    "df['credit_score'] = pd.to_numeric(df['credit_score'], errors='coerce')\n",
    "df = df[(df['credit_score'] >= 300) & (df['credit_score'] <= 850)]\n",
    "#df = df.dropna(subset=['credit_score'])"
   ]
  },
  {
   "cell_type": "code",
   "execution_count": 100,
   "id": "2abf359f-7707-4340-8261-994fd088dea3",
   "metadata": {},
   "outputs": [
    {
     "name": "stdout",
     "output_type": "stream",
     "text": [
      "count    49994.000000\n",
      "mean       750.584170\n",
      "std         45.181237\n",
      "min        600.000000\n",
      "25%        719.000000\n",
      "50%        760.000000\n",
      "75%        788.000000\n",
      "max        832.000000\n",
      "Name: credit_score, dtype: float64\n"
     ]
    }
   ],
   "source": [
    "print(df['credit_score'].describe())"
   ]
  },
  {
   "cell_type": "code",
   "execution_count": 101,
   "id": "2f6c227e-cdde-4386-8882-dfbc817ac4cf",
   "metadata": {},
   "outputs": [
    {
     "name": "stdout",
     "output_type": "stream",
     "text": [
      "32\n"
     ]
    }
   ],
   "source": [
    "print(len(df.columns))\n",
    "#print(df.columns.tolist())"
   ]
  },
  {
   "cell_type": "code",
   "execution_count": null,
   "id": "df44042e-9e59-4b18-8045-a47602648fbe",
   "metadata": {},
   "outputs": [],
   "source": []
  },
  {
   "cell_type": "code",
   "execution_count": null,
   "id": "c94523b4-fcbb-4402-9571-525136f27a0e",
   "metadata": {},
   "outputs": [],
   "source": []
  }
 ],
 "metadata": {
  "kernelspec": {
   "display_name": "Python 3 (ipykernel)",
   "language": "python",
   "name": "python3"
  },
  "language_info": {
   "codemirror_mode": {
    "name": "ipython",
    "version": 3
   },
   "file_extension": ".py",
   "mimetype": "text/x-python",
   "name": "python",
   "nbconvert_exporter": "python",
   "pygments_lexer": "ipython3",
   "version": "3.12.7"
  }
 },
 "nbformat": 4,
 "nbformat_minor": 5
}
